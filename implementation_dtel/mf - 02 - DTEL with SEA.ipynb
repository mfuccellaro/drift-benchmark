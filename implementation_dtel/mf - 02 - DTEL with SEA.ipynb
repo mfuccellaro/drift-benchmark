{
 "cells": [
  {
   "cell_type": "code",
   "execution_count": 2,
   "metadata": {},
   "outputs": [
    {
     "name": "stdout",
     "output_type": "stream",
     "text": [
      "\u001b[33mWARNING: You are using pip version 20.0.2; however, version 20.3 is available.\n",
      "You should consider upgrading via the '/home/ec2-user/anaconda3/envs/python3/bin/python -m pip install --upgrade pip' command.\u001b[0m\n"
     ]
    }
   ],
   "source": [
    "!pip install scikit-multiflow --q"
   ]
  },
  {
   "cell_type": "code",
   "execution_count": 3,
   "metadata": {},
   "outputs": [],
   "source": [
    "from dtel import *\n",
    "\n",
    "import numpy as np\n",
    "import sklearn as sk\n",
    "import pandas as pd\n",
    "import random\n",
    "\n",
    "from skmultiflow.data import SEAGenerator\n",
    "from skmultiflow.meta import LearnPPNSEClassifier\n",
    "\n",
    "import matplotlib.pyplot as plt"
   ]
  },
  {
   "cell_type": "code",
   "execution_count": 12,
   "metadata": {},
   "outputs": [
    {
     "data": {
      "text/plain": [
       "15.0"
      ]
     },
     "execution_count": 12,
     "metadata": {},
     "output_type": "execute_result"
    }
   ],
   "source": [
    "120/len(thetas_g)"
   ]
  },
  {
   "cell_type": "code",
   "execution_count": 13,
   "metadata": {},
   "outputs": [
    {
     "data": {
      "text/plain": [
       "1"
      ]
     },
     "execution_count": 13,
     "metadata": {},
     "output_type": "execute_result"
    }
   ],
   "source": [
    "16//15"
   ]
  },
  {
   "cell_type": "code",
   "execution_count": null,
   "metadata": {},
   "outputs": [],
   "source": [
    "%%time\n",
    "stream = SEAGenerator()\n",
    "\n",
    "thetas_a = [10, 7, 3, 7, 10, 13, 16, 13]\n",
    "thetas_g = [10, 8, 6, 8, 10, 12, 14, 12]\n",
    "\n",
    "def class_function(df, theta, noise=True):\n",
    "    y = ((df[0]+df[1])<=theta).astype(int)\n",
    "    if noise:\n",
    "        for i in y.sample(frac=0.1).index:\n",
    "            y.loc[i] = random.randint(0, 1)\n",
    "    return y\n",
    "\n",
    "\n",
    "# Gradual 500, 10% random in training set.\n",
    "\n",
    "r = []\n",
    "correct_cnt = 0\n",
    "batch_size = 500\n",
    "results = []\n",
    "preds = []\n",
    "correct_cnt, samples = 0, 0\n",
    "\n",
    "dt = dtel(max_depth=3, pool_size=25)\n",
    "\n",
    "    \n",
    "\n",
    "for i in range(120):\n",
    "    theta = thetas_g[i//15]\n",
    "    df = pd.DataFrame(SEAGenerator().next_sample(batch_size)[0])\n",
    "    y = class_function(df, theta, noise=True)\n",
    "    X = df\n",
    "    \n",
    "    if i != 0:\n",
    "        y_pred = dt.predict(X)\n",
    "        correct_cnt += sum(y == y_pred)\n",
    "        preds.extend(y_pred)\n",
    "        results.append(sum(y == y_pred)/batch_size)\n",
    "\n",
    "    dt.train_new_model(X, y)\n",
    "    dt.update_pool(X, y)"
   ]
  },
  {
   "cell_type": "code",
   "execution_count": 15,
   "metadata": {},
   "outputs": [
    {
     "name": "stdout",
     "output_type": "stream",
     "text": [
      "0.6077\n"
     ]
    }
   ],
   "source": [
    "print(correct_cnt/(120*batch_size))"
   ]
  },
  {
   "cell_type": "code",
   "execution_count": 9,
   "metadata": {},
   "outputs": [
    {
     "data": {
      "text/plain": [
       "0.07257327736521982"
      ]
     },
     "execution_count": 9,
     "metadata": {},
     "output_type": "execute_result"
    }
   ],
   "source": [
    "np.std(results)"
   ]
  },
  {
   "cell_type": "code",
   "execution_count": null,
   "metadata": {},
   "outputs": [],
   "source": []
  }
 ],
 "metadata": {
  "kernelspec": {
   "display_name": "conda_python3",
   "language": "python",
   "name": "conda_python3"
  },
  "language_info": {
   "codemirror_mode": {
    "name": "ipython",
    "version": 3
   },
   "file_extension": ".py",
   "mimetype": "text/x-python",
   "name": "python",
   "nbconvert_exporter": "python",
   "pygments_lexer": "ipython3",
   "version": "3.6.10"
  }
 },
 "nbformat": 4,
 "nbformat_minor": 4
}
