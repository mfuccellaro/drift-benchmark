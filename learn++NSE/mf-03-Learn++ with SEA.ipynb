{
 "cells": [
  {
   "cell_type": "code",
   "execution_count": 4,
   "metadata": {},
   "outputs": [],
   "source": [
    "import numpy as np\n",
    "import sklearn as sk\n",
    "import pandas as pd\n",
    "import random\n",
    "\n",
    "from skmultiflow.data import SEAGenerator\n",
    "from skmultiflow.meta import LearnPPNSEClassifier\n",
    "\n",
    "import matplotlib.pyplot as plt"
   ]
  },
  {
   "cell_type": "code",
   "execution_count": 5,
   "metadata": {},
   "outputs": [],
   "source": [
    "stream = SEAGenerator()"
   ]
  },
  {
   "cell_type": "code",
   "execution_count": 6,
   "metadata": {},
   "outputs": [],
   "source": [
    "thetas_a = [10, 7, 3, 7, 10, 13, 16, 13]\n",
    "thetas_g = [10, 8, 6, 8, 10, 12, 14, 12]"
   ]
  },
  {
   "cell_type": "code",
   "execution_count": 10,
   "metadata": {},
   "outputs": [],
   "source": [
    "def class_function(df, theta, noise=True):\n",
    "    y = ((df[0]+df[1])<=theta).astype(int)\n",
    "    if noise:\n",
    "        for i in y.sample(frac=0.1).index:\n",
    "            y.loc[i] = random.randint(0, 1)\n",
    "    return y"
   ]
  },
  {
   "cell_type": "code",
   "execution_count": null,
   "metadata": {},
   "outputs": [],
   "source": [
    "%%time\n",
    "# Gradual 500, 10% random in training set.\n",
    "\n",
    "r = []\n",
    "correct_cnt = 0\n",
    "size = 500\n",
    "\n",
    "for i in range(120):\n",
    "    theta = thetas_g[i%7]\n",
    "    df = pd.DataFrame(SEAGenerator().next_sample(size)[0])\n",
    "    y = class_function(df, theta, noise=True).to_numpy()\n",
    "    X = df.to_numpy()\n",
    "    learn_pp_nse.partial_fit(X, y, classes=[0, 1])\n",
    "\n",
    "    df = pd.DataFrame(SEAGenerator().next_sample(size)[0])\n",
    "    y = class_function(df, theta, noise=True).to_numpy()\n",
    "    X = df.to_numpy()\n",
    "\n",
    "    y_pred = learn_pp_nse.predict(X)\n",
    "    correct_cnt += sum(y == y_pred)\n",
    "    r.append(sum(y == y_pred)/size)\n",
    "print(correct_cnt/(120*size))"
   ]
  },
  {
   "cell_type": "code",
   "execution_count": 13,
   "metadata": {},
   "outputs": [
    {
     "name": "stdout",
     "output_type": "stream",
     "text": [
      "0.7925416666666667\n",
      "CPU times: user 1min 18s, sys: 25.4 ms, total: 1min 18s\n",
      "Wall time: 1min 18s\n"
     ]
    }
   ],
   "source": [
    "%%time\n",
    "\n",
    "# Abrupt 200, 10% random in training set.\n",
    "r = []\n",
    "correct_cnt = 0\n",
    "size = 200\n",
    "\n",
    "learn_pp_nse = LearnPPNSEClassifier(n_estimators=25, pruning='error')\n",
    "\n",
    "for i in range(120):\n",
    "    theta = thetas_a[i%7]\n",
    "    df = pd.DataFrame(SEAGenerator().next_sample(size)[0])\n",
    "    y = class_function(df, theta, noise=False).to_numpy()\n",
    "    X = df.to_numpy()\n",
    "    learn_pp_nse.partial_fit(X, y, classes=[0, 1])\n",
    "    \n",
    "    \n",
    "    \n",
    "    df = pd.DataFrame(SEAGenerator().next_sample(size)[0])\n",
    "    y = class_function(df, theta).to_numpy()\n",
    "    X = df.to_numpy()\n",
    "\n",
    "    y_pred = learn_pp_nse.predict(X)\n",
    "    correct_cnt += sum(y == y_pred)\n",
    "    r.append(sum(y == y_pred)/size)\n",
    "# 0.6362083333333334\n",
    "# 0.793\n",
    "print(correct_cnt/(120*size))"
   ]
  },
  {
   "cell_type": "code",
   "execution_count": null,
   "metadata": {},
   "outputs": [],
   "source": [
    "%%time\n",
    "\n",
    "# Abrupt 200, 10% random in training set.\n",
    "r = []\n",
    "correct_cnt = 0\n",
    "size = 200\n",
    "\n",
    "for i in range(120):\n",
    "    theta = thetas_g[i%7]\n",
    "    df = pd.DataFrame(SEAGenerator().next_sample(size)[0])\n",
    "    y = class_function(df, theta, on=False).to_numpy()\n",
    "    X = df.to_numpy()\n",
    "    learn_pp_nse.partial_fit(X, y, classes=[0, 1])\n",
    "\n",
    "    df = pd.DataFrame(SEAGenerator().next_sample(size)[0])\n",
    "    y = class_function(df, theta).to_numpy()\n",
    "    X = df.to_numpy()\n",
    "\n",
    "    y_pred = learn_pp_nse.predict(X)\n",
    "    correct_cnt += sum(y == y_pred)\n",
    "    r.append(sum(y == y_pred)/size)\n",
    "print(correct_cnt/(120*size))"
   ]
  },
  {
   "cell_type": "code",
   "execution_count": null,
   "metadata": {},
   "outputs": [],
   "source": []
  }
 ],
 "metadata": {
  "kernelspec": {
   "display_name": "conda_python3",
   "language": "python",
   "name": "conda_python3"
  },
  "language_info": {
   "codemirror_mode": {
    "name": "ipython",
    "version": 3
   },
   "file_extension": ".py",
   "mimetype": "text/x-python",
   "name": "python",
   "nbconvert_exporter": "python",
   "pygments_lexer": "ipython3",
   "version": "3.6.10"
  }
 },
 "nbformat": 4,
 "nbformat_minor": 4
}
