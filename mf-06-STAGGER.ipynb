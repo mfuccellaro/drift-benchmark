{
 "cells": [
  {
   "cell_type": "code",
   "execution_count": 148,
   "metadata": {},
   "outputs": [],
   "source": [
    "import pandas as pd\n",
    "\n",
    "from skmultiflow.meta import AdditiveExpertEnsembleClassifier\n",
    "from skmultiflow.meta import DynamicWeightedMajorityClassifier\n",
    "from skmultiflow.meta import LearnPPNSEClassifier\n",
    "\n",
    "\n",
    "from skmultiflow.data.stagger_generator import STAGGERGenerator\n",
    "\n",
    "import matplotlib.pyplot as plt"
   ]
  },
  {
   "cell_type": "code",
   "execution_count": 149,
   "metadata": {},
   "outputs": [],
   "source": [
    "def score_stagger_after(model, n_batch, batch_size):\n",
    "    correct_cnt = 0\n",
    "    stream = STAGGERGenerator(classification_function = 0, balance_classes = True)\n",
    "    for i in range(n_batch):\n",
    "        stream.generate_drift()\n",
    "        X, y = stream.next_sample(batch_size)\n",
    "        \n",
    "        y_pred = model.predict(X)\n",
    "        correct_cnt += sum(y == y_pred)\n",
    "        \n",
    "        X, y = stream.next_sample(batch_size)\n",
    "        model.partial_fit(X, y, classes=[0, 1])\n",
    "    return correct_cnt/(n_batch*batch_size)"
   ]
  },
  {
   "cell_type": "code",
   "execution_count": 150,
   "metadata": {},
   "outputs": [],
   "source": [
    "def score_stagger_before(model, n_batch, batch_size):\n",
    "    correct_cnt = 0\n",
    "    stream = STAGGERGenerator(classification_function = 0, balance_classes = True)\n",
    "    for i in range(n_batch):\n",
    "        stream.generate_drift()\n",
    "        X, y = stream.next_sample(batch_size)\n",
    "        model.partial_fit(X, y, classes=[0, 1])\n",
    "        \n",
    "        X, y = stream.next_sample(batch_size)\n",
    "        y_pred = model.predict(X)\n",
    "        correct_cnt += sum(y == y_pred)\n",
    "\n",
    "    return correct_cnt/(n_batch*batch_size)"
   ]
  },
  {
   "cell_type": "code",
   "execution_count": 151,
   "metadata": {},
   "outputs": [],
   "source": [
    "def score_stagger_before_w_split(model, n_batch, batch_size, split_number):\n",
    "    correct_cnt = 0\n",
    "    stream = STAGGERGenerator(classification_function = 0, balance_classes = True)\n",
    "    for i in range(n_batch):\n",
    "        stream.generate_drift()\n",
    "        for j in range(split_number):\n",
    "            X, y = stream.next_sample(batch_size//split_number)\n",
    "            model.partial_fit(X, y, classes=[0, 1])\n",
    "\n",
    "            X, y = stream.next_sample(batch_size//split_number)\n",
    "            y_pred = model.predict(X)\n",
    "            correct_cnt += sum(y == y_pred)\n",
    "    return correct_cnt/(n_batch*batch_size)"
   ]
  },
  {
   "cell_type": "code",
   "execution_count": 152,
   "metadata": {},
   "outputs": [],
   "source": [
    "def score_stagger_after_w_split(model, n_batch, batch_size, split_number):\n",
    "    correct_cnt = 0\n",
    "    stream = STAGGERGenerator(classification_function = 0, balance_classes = True)\n",
    "    for i in range(n_batch):\n",
    "        stream.generate_drift()\n",
    "        for j in range(split_number):\n",
    "            X, y = stream.next_sample(batch_size//split_number)\n",
    "            y_pred = model.predict(X)\n",
    "            correct_cnt += sum(y == y_pred)\n",
    "            \n",
    "            X, y = stream.next_sample(batch_size//split_number)\n",
    "            model.partial_fit(X, y, classes=[0, 1])\n",
    "    return correct_cnt/(n_batch*batch_size)"
   ]
  },
  {
   "cell_type": "code",
   "execution_count": 153,
   "metadata": {},
   "outputs": [
    {
     "name": "stdout",
     "output_type": "stream",
     "text": [
      "score_stagger_after_w_split 1\n",
      "LearnPPNSEClassifier :0.3833166666666667\n",
      "score_stagger_after_w_split 2\n",
      "LearnPPNSEClassifier :0.69655\n",
      "score_stagger_after_w_split 5\n",
      "LearnPPNSEClassifier :0.6274666666666666\n",
      "score_stagger_after_w_split 10\n",
      "LearnPPNSEClassifier :0.69515\n",
      "score_stagger_after_w_split 20\n",
      "LearnPPNSEClassifier :0.6881\n",
      "score_stagger_after_w_split 50\n",
      "LearnPPNSEClassifier :0.6809166666666666\n",
      "score_stagger_after_w_split 100\n"
     ]
    },
    {
     "ename": "KeyboardInterrupt",
     "evalue": "",
     "output_type": "error",
     "traceback": [
      "\u001b[0;31m---------------------------------------------------------------------------\u001b[0m",
      "\u001b[0;31mKeyboardInterrupt\u001b[0m                         Traceback (most recent call last)",
      "\u001b[0;32m<timed exec>\u001b[0m in \u001b[0;36m<module>\u001b[0;34m\u001b[0m\n",
      "\u001b[0;32m<ipython-input-152-6772c3354bbb>\u001b[0m in \u001b[0;36mscore_stagger_after_w_split\u001b[0;34m(model, n_batch, batch_size, split_number)\u001b[0m\n\u001b[1;32m      5\u001b[0m         \u001b[0mstream\u001b[0m\u001b[0;34m.\u001b[0m\u001b[0mgenerate_drift\u001b[0m\u001b[0;34m(\u001b[0m\u001b[0;34m)\u001b[0m\u001b[0;34m\u001b[0m\u001b[0;34m\u001b[0m\u001b[0m\n\u001b[1;32m      6\u001b[0m         \u001b[0;32mfor\u001b[0m \u001b[0mj\u001b[0m \u001b[0;32min\u001b[0m \u001b[0mrange\u001b[0m\u001b[0;34m(\u001b[0m\u001b[0msplit_number\u001b[0m\u001b[0;34m)\u001b[0m\u001b[0;34m:\u001b[0m\u001b[0;34m\u001b[0m\u001b[0;34m\u001b[0m\u001b[0m\n\u001b[0;32m----> 7\u001b[0;31m             \u001b[0mX\u001b[0m\u001b[0;34m,\u001b[0m \u001b[0my\u001b[0m \u001b[0;34m=\u001b[0m \u001b[0mstream\u001b[0m\u001b[0;34m.\u001b[0m\u001b[0mnext_sample\u001b[0m\u001b[0;34m(\u001b[0m\u001b[0mbatch_size\u001b[0m\u001b[0;34m//\u001b[0m\u001b[0msplit_number\u001b[0m\u001b[0;34m)\u001b[0m\u001b[0;34m\u001b[0m\u001b[0;34m\u001b[0m\u001b[0m\n\u001b[0m\u001b[1;32m      8\u001b[0m             \u001b[0my_pred\u001b[0m \u001b[0;34m=\u001b[0m \u001b[0mmodel\u001b[0m\u001b[0;34m.\u001b[0m\u001b[0mpredict\u001b[0m\u001b[0;34m(\u001b[0m\u001b[0mX\u001b[0m\u001b[0;34m)\u001b[0m\u001b[0;34m\u001b[0m\u001b[0;34m\u001b[0m\u001b[0m\n\u001b[1;32m      9\u001b[0m             \u001b[0mcorrect_cnt\u001b[0m \u001b[0;34m+=\u001b[0m \u001b[0msum\u001b[0m\u001b[0;34m(\u001b[0m\u001b[0my\u001b[0m \u001b[0;34m==\u001b[0m \u001b[0my_pred\u001b[0m\u001b[0;34m)\u001b[0m\u001b[0;34m\u001b[0m\u001b[0;34m\u001b[0m\u001b[0m\n",
      "\u001b[0;32m~/anaconda3/envs/python3/lib/python3.6/site-packages/skmultiflow/data/stagger_generator.py\u001b[0m in \u001b[0;36mnext_sample\u001b[0;34m(self, batch_size)\u001b[0m\n\u001b[1;32m    192\u001b[0m             \u001b[0mdesired_class_found\u001b[0m \u001b[0;34m=\u001b[0m \u001b[0;32mFalse\u001b[0m\u001b[0;34m\u001b[0m\u001b[0;34m\u001b[0m\u001b[0m\n\u001b[1;32m    193\u001b[0m             \u001b[0;32mwhile\u001b[0m \u001b[0;32mnot\u001b[0m \u001b[0mdesired_class_found\u001b[0m\u001b[0;34m:\u001b[0m\u001b[0;34m\u001b[0m\u001b[0;34m\u001b[0m\u001b[0m\n\u001b[0;32m--> 194\u001b[0;31m                 \u001b[0msize\u001b[0m \u001b[0;34m=\u001b[0m \u001b[0mself\u001b[0m\u001b[0;34m.\u001b[0m\u001b[0m_random_state\u001b[0m\u001b[0;34m.\u001b[0m\u001b[0mrandint\u001b[0m\u001b[0;34m(\u001b[0m\u001b[0;36m3\u001b[0m\u001b[0;34m)\u001b[0m\u001b[0;34m\u001b[0m\u001b[0;34m\u001b[0m\u001b[0m\n\u001b[0m\u001b[1;32m    195\u001b[0m                 \u001b[0mcolor\u001b[0m \u001b[0;34m=\u001b[0m \u001b[0mself\u001b[0m\u001b[0;34m.\u001b[0m\u001b[0m_random_state\u001b[0m\u001b[0;34m.\u001b[0m\u001b[0mrandint\u001b[0m\u001b[0;34m(\u001b[0m\u001b[0;36m3\u001b[0m\u001b[0;34m)\u001b[0m\u001b[0;34m\u001b[0m\u001b[0;34m\u001b[0m\u001b[0m\n\u001b[1;32m    196\u001b[0m                 \u001b[0mshape\u001b[0m \u001b[0;34m=\u001b[0m \u001b[0mself\u001b[0m\u001b[0;34m.\u001b[0m\u001b[0m_random_state\u001b[0m\u001b[0;34m.\u001b[0m\u001b[0mrandint\u001b[0m\u001b[0;34m(\u001b[0m\u001b[0;36m3\u001b[0m\u001b[0;34m)\u001b[0m\u001b[0;34m\u001b[0m\u001b[0;34m\u001b[0m\u001b[0m\n",
      "\u001b[0;31mKeyboardInterrupt\u001b[0m: "
     ]
    }
   ],
   "source": [
    "%%time\n",
    "for split in [1, 2, 5, 10, 20, 50, 100]:\n",
    "    print('score_stagger_after_w_split', split)\n",
    "    '''model = AdditiveExpertEnsembleClassifier()\n",
    "    print('AdditiveExpertEnsembleClassifier :{}'.format(score_stagger_after_w_split(\n",
    "        model, n_batch=120, batch_size=500, split_number=split)))\n",
    "    model = DynamicWeightedMajorityClassifier()\n",
    "    print('DynamicWeightedMajorityClassifier :{}'.format(score_stagger_after_w_split(\n",
    "        model, n_batch=120, batch_size=500, split_number=split)))'''\n",
    "    model = LearnPPNSEClassifier()\n",
    "    print('LearnPPNSEClassifier :{}'.format(score_stagger_after_w_split(\n",
    "        model, n_batch=120, batch_size=500, split_number=split)))"
   ]
  },
  {
   "cell_type": "code",
   "execution_count": null,
   "metadata": {},
   "outputs": [
    {
     "name": "stdout",
     "output_type": "stream",
     "text": [
      "score_stagger_before_w_split 1\n",
      "LearnPPNSEClassifier :1.0\n",
      "score_stagger_before_w_split 2\n",
      "LearnPPNSEClassifier :1.0\n",
      "score_stagger_before_w_split 5\n",
      "LearnPPNSEClassifier :0.7409666666666667\n",
      "score_stagger_before_w_split 10\n",
      "LearnPPNSEClassifier :0.7477\n",
      "score_stagger_before_w_split 20\n",
      "LearnPPNSEClassifier :0.7295333333333334\n",
      "score_stagger_before_w_split 50\n",
      "LearnPPNSEClassifier :0.70735\n",
      "score_stagger_before_w_split 500\n"
     ]
    }
   ],
   "source": [
    "%%time\n",
    "for split in [1, 2, 5, 10, 20, 50, 500]:\n",
    "    print('score_stagger_before_w_split', split)\n",
    "    \"\"\"model = AdditiveExpertEnsembleClassifier()\n",
    "    print('AdditiveExpertEnsembleClassifier :{}'.format(score_stagger_before_w_split(\n",
    "        model, n_batch=120, batch_size=500, split_number=split)))\n",
    "    model = DynamicWeightedMajorityClassifier()\n",
    "    print('DynamicWeightedMajorityClassifier :{}'.format(score_stagger_before_w_split(\n",
    "        model, n_batch=120, batch_size=500, split_number=split)))\"\"\"\n",
    "    model = LearnPPNSEClassifier()\n",
    "    print('LearnPPNSEClassifier :{}'.format(score_stagger_before_w_split(\n",
    "        model, n_batch=120, batch_size=500, split_number=split)))"
   ]
  },
  {
   "cell_type": "code",
   "execution_count": 14,
   "metadata": {},
   "outputs": [
    {
     "name": "stdout",
     "output_type": "stream",
     "text": [
      "score_stagger_after\n",
      "AdditiveExpertEnsembleClassifier :0.5677666666666666\n",
      "DynamicWeightedMajorityClassifier :0.3802833333333333\n",
      "LearnPPNSEClassifier :0.3889166666666667\n",
      "CPU times: user 7min 4s, sys: 876 ms, total: 7min 5s\n",
      "Wall time: 7min 3s\n"
     ]
    }
   ],
   "source": [
    "%%time\n",
    "print('score_stagger_after')\n",
    "model = AdditiveExpertEnsembleClassifier()\n",
    "print('AdditiveExpertEnsembleClassifier :{}'.format(score_stagger_after(model, n_batch=120, batch_size=500)))\n",
    "model = DynamicWeightedMajorityClassifier()\n",
    "print('DynamicWeightedMajorityClassifier :{}'.format(score_stagger_after(model, n_batch=120, batch_size=500)))\n",
    "model = LearnPPNSEClassifier()\n",
    "print('LearnPPNSEClassifier :{}'.format(score_stagger_after(model, n_batch=120, batch_size=500)))"
   ]
  },
  {
   "cell_type": "code",
   "execution_count": 15,
   "metadata": {},
   "outputs": [
    {
     "name": "stdout",
     "output_type": "stream",
     "text": [
      "score_stagger_before\n",
      "AdditiveExpertEnsembleClassifier :0.6315\n",
      "DynamicWeightedMajorityClassifier :0.9791666666666666\n",
      "LearnPPNSEClassifier :1.0\n",
      "CPU times: user 8min 2s, sys: 1.23 s, total: 8min 3s\n",
      "Wall time: 8min 1s\n"
     ]
    }
   ],
   "source": [
    "%%time\n",
    "print('score_stagger_before')\n",
    "model = AdditiveExpertEnsembleClassifier()\n",
    "print('AdditiveExpertEnsembleClassifier :{}'.format(score_stagger_before(model, n_batch=120, batch_size=500)))\n",
    "model = DynamicWeightedMajorityClassifier()\n",
    "print('DynamicWeightedMajorityClassifier :{}'.format(score_stagger_before(model, n_batch=120, batch_size=500)))\n",
    "model = LearnPPNSEClassifier()\n",
    "print('LearnPPNSEClassifier :{}'.format(score_stagger_before(model, n_batch=120, batch_size=500)))"
   ]
  },
  {
   "cell_type": "code",
   "execution_count": 54,
   "metadata": {},
   "outputs": [],
   "source": [
    "def score_sea(model, n_batch, batch_size):\n",
    "    correct_cnt = 0\n",
    "    for i in range(n_batch):\n",
    "        stream = STAGGERGenerator(classification_function = i%3, random_state = i, balance_classes = True)\n",
    "        X, y = stream.next_sample(batch_size)\n",
    "        \n",
    "        y_pred = model.predict(X)\n",
    "        correct_cnt += sum(y == y_pred)\n",
    "        model.partial_fit(X, y, classes=[0, 1])\n",
    "    return correct_cnt/(n_batch*batch_size)"
   ]
  },
  {
   "cell_type": "code",
   "execution_count": 57,
   "metadata": {},
   "outputs": [
    {
     "data": {
      "text/plain": [
       "248"
      ]
     },
     "execution_count": 57,
     "metadata": {},
     "output_type": "execute_result"
    }
   ],
   "source": [
    "124030//500"
   ]
  },
  {
   "cell_type": "code",
   "execution_count": 94,
   "metadata": {},
   "outputs": [],
   "source": [
    "streams = [STAGGERGenerator\n",
    "               (\n",
    "                   classification_function = i, random_state = i, balance_classes = True\n",
    "               ) for i in range(3)]"
   ]
  },
  {
   "cell_type": "code",
   "execution_count": 96,
   "metadata": {},
   "outputs": [
    {
     "data": {
      "text/plain": [
       "STAGGERGenerator(balance_classes=True, classification_function=0,\n",
       "                 random_state=0)"
      ]
     },
     "execution_count": 96,
     "metadata": {},
     "output_type": "execute_result"
    }
   ],
   "source": [
    "streams[0]"
   ]
  },
  {
   "cell_type": "code",
   "execution_count": 106,
   "metadata": {},
   "outputs": [],
   "source": [
    "def score_stagger_window(model, n_batch, batch_size):\n",
    "    correct_cnt = 0\n",
    "    streams = [STAGGERGenerator\n",
    "               (\n",
    "                   classification_function = i, random_state = i, balance_classes = True\n",
    "               ) for i in range(3)]\n",
    "    for i in range(n_batch*batch_size):\n",
    "        X, y = streams[(i//500)%3].next_sample(1)\n",
    "        y_pred = model.predict(X)\n",
    "        correct_cnt += sum(y == y_pred)\n",
    "        if i%batch_size == 0:\n",
    "            X, y = streams[(i//500)%3].next_sample(batch_size)\n",
    "            model.partial_fit(X, y, classes=[0, 1])\n",
    "    return correct_cnt/(n_batch*batch_size)"
   ]
  },
  {
   "cell_type": "code",
   "execution_count": 105,
   "metadata": {},
   "outputs": [
    {
     "name": "stdout",
     "output_type": "stream",
     "text": [
      "CPU times: user 2.1 s, sys: 0 ns, total: 2.1 s\n",
      "Wall time: 2.1 s\n"
     ]
    },
    {
     "data": {
      "text/plain": [
       "0.5011666666666666"
      ]
     },
     "execution_count": 105,
     "metadata": {},
     "output_type": "execute_result"
    }
   ],
   "source": [
    "%%time\n",
    "model = AdditiveExpertEnsembleClassifier(pruning='oldest')\n",
    "score_stagger_window(model, n_batch=12, batch_size=500)"
   ]
  },
  {
   "cell_type": "code",
   "execution_count": 107,
   "metadata": {},
   "outputs": [
    {
     "name": "stdout",
     "output_type": "stream",
     "text": [
      "CPU times: user 6.34 s, sys: 7.95 ms, total: 6.35 s\n",
      "Wall time: 6.36 s\n"
     ]
    },
    {
     "data": {
      "text/plain": [
       "0.9985"
      ]
     },
     "execution_count": 107,
     "metadata": {},
     "output_type": "execute_result"
    }
   ],
   "source": [
    "%%time\n",
    "model = AdditiveExpertEnsembleClassifier(pruning='oldest')\n",
    "score_stagger_window(model, n_batch=12, batch_size=500)"
   ]
  },
  {
   "cell_type": "code",
   "execution_count": 65,
   "metadata": {},
   "outputs": [
    {
     "name": "stdout",
     "output_type": "stream",
     "text": [
      "CPU times: user 5.18 s, sys: 3.98 ms, total: 5.18 s\n",
      "Wall time: 5.19 s\n"
     ]
    },
    {
     "data": {
      "text/plain": [
       "0.7363333333333333"
      ]
     },
     "execution_count": 65,
     "metadata": {},
     "output_type": "execute_result"
    }
   ],
   "source": [
    "%%time\n",
    "model = AdditiveExpertEnsembleClassifier()\n",
    "score_stagger(model, 500, 12)"
   ]
  },
  {
   "cell_type": "code",
   "execution_count": 72,
   "metadata": {},
   "outputs": [
    {
     "name": "stdout",
     "output_type": "stream",
     "text": [
      "CPU times: user 4.27 s, sys: 8.02 ms, total: 4.28 s\n",
      "Wall time: 4.28 s\n"
     ]
    },
    {
     "data": {
      "text/plain": [
       "0.9955"
      ]
     },
     "execution_count": 72,
     "metadata": {},
     "output_type": "execute_result"
    }
   ],
   "source": [
    "%%time\n",
    "model = AdditiveExpertEnsembleClassifier()\n",
    "score_stagger_window(model, 500, 12)"
   ]
  },
  {
   "cell_type": "code",
   "execution_count": 73,
   "metadata": {},
   "outputs": [
    {
     "name": "stdout",
     "output_type": "stream",
     "text": [
      "CPU times: user 1.73 s, sys: 8.05 ms, total: 1.74 s\n",
      "Wall time: 1.74 s\n"
     ]
    },
    {
     "data": {
      "text/plain": [
       "0.98875"
      ]
     },
     "execution_count": 73,
     "metadata": {},
     "output_type": "execute_result"
    }
   ],
   "source": [
    "%%time\n",
    "model = AdditiveExpertEnsembleClassifier()\n",
    "score_stagger_window(model, 200, 12)"
   ]
  },
  {
   "cell_type": "code",
   "execution_count": 76,
   "metadata": {},
   "outputs": [
    {
     "name": "stdout",
     "output_type": "stream",
     "text": [
      "CPU times: user 1.76 s, sys: 8.06 ms, total: 1.77 s\n",
      "Wall time: 1.77 s\n"
     ]
    },
    {
     "data": {
      "text/plain": [
       "0.99125"
      ]
     },
     "execution_count": 76,
     "metadata": {},
     "output_type": "execute_result"
    }
   ],
   "source": [
    "%%time\n",
    "model = AdditiveExpertEnsembleClassifier()\n",
    "score_stagger_window(model, 200, 12)"
   ]
  },
  {
   "cell_type": "code",
   "execution_count": 80,
   "metadata": {},
   "outputs": [
    {
     "name": "stdout",
     "output_type": "stream",
     "text": [
      "CPU times: user 1.01 s, sys: 4.03 ms, total: 1.02 s\n",
      "Wall time: 1.01 s\n"
     ]
    },
    {
     "data": {
      "text/plain": [
       "0.5004166666666666"
      ]
     },
     "execution_count": 80,
     "metadata": {},
     "output_type": "execute_result"
    }
   ],
   "source": [
    "%%time\n",
    "model = AdditiveExpertEnsembleClassifier()\n",
    "score_stagger_window(model, 200, 12)"
   ]
  },
  {
   "cell_type": "code",
   "execution_count": 67,
   "metadata": {},
   "outputs": [
    {
     "data": {
      "text/plain": [
       "0.9955"
      ]
     },
     "execution_count": 67,
     "metadata": {},
     "output_type": "execute_result"
    }
   ],
   "source": [
    "5973/6000"
   ]
  },
  {
   "cell_type": "code",
   "execution_count": null,
   "metadata": {},
   "outputs": [],
   "source": [
    "retrain_window = "
   ]
  },
  {
   "cell_type": "code",
   "execution_count": 55,
   "metadata": {},
   "outputs": [
    {
     "name": "stdout",
     "output_type": "stream",
     "text": [
      "CPU times: user 4.35 s, sys: 3.99 ms, total: 4.35 s\n",
      "Wall time: 4.35 s\n"
     ]
    },
    {
     "data": {
      "text/plain": [
       "0.5936"
      ]
     },
     "execution_count": 55,
     "metadata": {},
     "output_type": "execute_result"
    }
   ],
   "source": [
    "%%time\n",
    "model = AdditiveExpertEnsembleClassifier()\n",
    "score_sea(model, 500, 120)"
   ]
  },
  {
   "cell_type": "code",
   "execution_count": 47,
   "metadata": {},
   "outputs": [
    {
     "name": "stdout",
     "output_type": "stream",
     "text": [
      "CPU times: user 50.9 s, sys: 39.8 ms, total: 51 s\n",
      "Wall time: 50.9 s\n"
     ]
    },
    {
     "data": {
      "text/plain": [
       "0.7325354330708661"
      ]
     },
     "execution_count": 47,
     "metadata": {},
     "output_type": "execute_result"
    }
   ],
   "source": [
    "%%time\n",
    "model = AdditiveExpertEnsembleClassifier()\n",
    "score_stagger(model, 500, 127)"
   ]
  },
  {
   "cell_type": "code",
   "execution_count": 51,
   "metadata": {},
   "outputs": [
    {
     "name": "stdout",
     "output_type": "stream",
     "text": [
      "CPU times: user 20.4 s, sys: 3.84 ms, total: 20.4 s\n",
      "Wall time: 20.4 s\n"
     ]
    },
    {
     "data": {
      "text/plain": [
       "0.5771259842519685"
      ]
     },
     "execution_count": 51,
     "metadata": {},
     "output_type": "execute_result"
    }
   ],
   "source": [
    "%%time\n",
    "model = AdditiveExpertEnsembleClassifier()\n",
    "score_sea(model, 200, 127)"
   ]
  },
  {
   "cell_type": "code",
   "execution_count": 49,
   "metadata": {},
   "outputs": [
    {
     "data": {
      "text/plain": [
       "60000"
      ]
     },
     "execution_count": 49,
     "metadata": {},
     "output_type": "execute_result"
    }
   ],
   "source": [
    "500*120"
   ]
  },
  {
   "cell_type": "code",
   "execution_count": null,
   "metadata": {},
   "outputs": [
    {
     "name": "stdout",
     "output_type": "stream",
     "text": [
      "estimator : 5, batch: 50\n",
      "Learn++.NSE classifier accuracy: 0.724708686440678\n",
      "estimator : 5, batch: 120\n",
      "Learn++.NSE classifier accuracy: 0.7178893008474576\n",
      "estimator : 5, batch: 377\n",
      "Learn++.NSE classifier accuracy: 0.692134533898305\n",
      "estimator : 15, batch: 50\n",
      "Learn++.NSE classifier accuracy: 0.724752824858757\n",
      "estimator : 15, batch: 120\n",
      "Learn++.NSE classifier accuracy: 0.7179113700564972\n",
      "estimator : 15, batch: 377\n",
      "Learn++.NSE classifier accuracy: 0.692134533898305\n",
      "estimator : 25, batch: 50\n"
     ]
    }
   ],
   "source": [
    "%%time\n",
    "for estimator in [5, 15, 25]:\n",
    "    for batch in [50, 120, 377]:\n",
    "        print('estimator : {}, batch: {}'.format(estimator, batch))\n",
    "        score_elec(AdditiveExpertEnsembleClassifier(n_estimators=estimator), batch)"
   ]
  },
  {
   "cell_type": "code",
   "execution_count": 29,
   "metadata": {},
   "outputs": [
    {
     "name": "stdout",
     "output_type": "stream",
     "text": [
      "estimator : 5, batch: 10\n",
      "Learn++.NSE classifier accuracy: 0.7290342514124294\n",
      "estimator : 5, batch: 20\n",
      "Learn++.NSE classifier accuracy: 0.728129413841808\n",
      "estimator : 5, batch: 30\n",
      "Learn++.NSE classifier accuracy: 0.7273128531073446\n",
      "estimator : 5, batch: 40\n",
      "Learn++.NSE classifier accuracy: 0.725150070621469\n",
      "CPU times: user 3min 54s, sys: 19.6 ms, total: 3min 54s\n",
      "Wall time: 3min 54s\n"
     ]
    }
   ],
   "source": [
    "%%time\n",
    "for estimator in [5]:\n",
    "    for batch in [10, 20, 30, 40]:\n",
    "        print('estimator : {}, batch: {}'.format(estimator, batch))\n",
    "        score_elec(AdditiveExpertEnsembleClassifier(n_estimators=estimator), batch)"
   ]
  },
  {
   "cell_type": "code",
   "execution_count": 30,
   "metadata": {},
   "outputs": [
    {
     "name": "stdout",
     "output_type": "stream",
     "text": [
      "estimator : 5, batch: 1\n",
      "Learn++.NSE classifier accuracy: 0.7321239406779662\n",
      "CPU times: user 2min 53s, sys: 20 ms, total: 2min 53s\n",
      "Wall time: 2min 53s\n"
     ]
    }
   ],
   "source": [
    "%%time\n",
    "for estimator in [5]:\n",
    "    for batch in [1]:\n",
    "        print('estimator : {}, batch: {}'.format(estimator, batch))\n",
    "        score_elec(AdditiveExpertEnsembleClassifier(n_estimators=estimator), batch)"
   ]
  },
  {
   "cell_type": "code",
   "execution_count": 32,
   "metadata": {},
   "outputs": [
    {
     "data": {
      "text/plain": [
       "True"
      ]
     },
     "execution_count": 32,
     "metadata": {},
     "output_type": "execute_result"
    }
   ],
   "source": [
    "# Imports\n",
    "from skmultiflow.data.stagger_generator import STAGGERGenerator\n",
    "# Setting up the stream\n",
    "stream = STAGGERGenerator(classification_function = 2, random_state = 112, balance_classes = False)\n",
    "# Retrieving one sample\n",
    "stream.next_sample()\n",
    "stream.next_sample(10)\n",
    "stream.n_remaining_samples()\n",
    "stream.has_more_samples()"
   ]
  },
  {
   "cell_type": "code",
   "execution_count": null,
   "metadata": {},
   "outputs": [],
   "source": [
    "def "
   ]
  },
  {
   "cell_type": "code",
   "execution_count": 33,
   "metadata": {},
   "outputs": [
    {
     "data": {
      "text/plain": [
       "(array([[2., 0., 1.],\n",
       "        [2., 0., 0.],\n",
       "        [1., 0., 0.],\n",
       "        [0., 2., 1.],\n",
       "        [2., 2., 0.],\n",
       "        [2., 1., 2.],\n",
       "        [0., 2., 0.],\n",
       "        [1., 0., 2.],\n",
       "        [1., 2., 2.],\n",
       "        [1., 0., 1.]]),\n",
       " array([1, 1, 1, 0, 1, 1, 0, 1, 1, 1]))"
      ]
     },
     "execution_count": 33,
     "metadata": {},
     "output_type": "execute_result"
    }
   ],
   "source": [
    "stream.next_sample(10)"
   ]
  },
  {
   "cell_type": "code",
   "execution_count": null,
   "metadata": {},
   "outputs": [],
   "source": []
  }
 ],
 "metadata": {
  "kernelspec": {
   "display_name": "conda_python3",
   "language": "python",
   "name": "conda_python3"
  },
  "language_info": {
   "codemirror_mode": {
    "name": "ipython",
    "version": 3
   },
   "file_extension": ".py",
   "mimetype": "text/x-python",
   "name": "python",
   "nbconvert_exporter": "python",
   "pygments_lexer": "ipython3",
   "version": "3.6.10"
  }
 },
 "nbformat": 4,
 "nbformat_minor": 4
}
